{
 "cells": [
  {
   "cell_type": "markdown",
   "id": "d7dbc544",
   "metadata": {},
   "source": [
    "This notebook is based on an [article](https://www.geeksforgeeks.org/python-oops-concepts/) that aims to study the concept of OOP (object-oriented programming) in python."
   ]
  },
  {
   "cell_type": "markdown",
   "id": "6c2cf9e8",
   "metadata": {},
   "source": [
    "A __class__ is a collection of objects. A class contains the blueprints or the prototype from which the objects are being created. It is a logical entity that contains some attributes and methods.\n",
    "<br> * Classes are created by keyword class.\n",
    "<br> * Attributes are the variables that belong to a class.\n",
    "<br> * Attributes are always public and can be accessed using the dot (.) operator."
   ]
  },
  {
   "cell_type": "markdown",
   "id": "308fec7f",
   "metadata": {},
   "source": [
    "The __object__ is an entity that has a state and behavior associated with it. Integers, strings, floating-point numbers, even arrays, and dictionaries, are all objects.\n",
    "<br> An object consists of :\n",
    "<br> * State: It is represented by the attributes of an object. It also reflects the properties of an object.\n",
    "<br> * Behavior: It is represented by the methods of an object. It also reflects the response of an object to other objects.\n",
    "<br> * Identity: It gives a unique name to an object and enables one object to interact with other objects."
   ]
  },
  {
   "cell_type": "markdown",
   "id": "f15633bd",
   "metadata": {},
   "source": [
    "__self__ represents the instance of the class. By using the “self” keyword we can access the attributes and methods of the class in python. It binds the attributes with the given arguments."
   ]
  },
  {
   "cell_type": "markdown",
   "id": "8d198c77",
   "metadata": {},
   "source": [
    "The __init__ method is run as soon as an object of a class is instantiated. The method is useful to do any initialization you want to do with your object. "
   ]
  },
  {
   "cell_type": "markdown",
   "id": "e21d7372",
   "metadata": {},
   "source": [
    "__Example 1: Creating a class and object with class and instance attributes__"
   ]
  },
  {
   "cell_type": "code",
   "execution_count": 1,
   "id": "3c8e86da",
   "metadata": {},
   "outputs": [],
   "source": [
    "class Dog:\n",
    "  \n",
    "    # class attribute\n",
    "    attr1 = \"mammal\"\n",
    "  \n",
    "    # instance attribute\n",
    "    def __init__(self, name):\n",
    "        self.name = name"
   ]
  },
  {
   "cell_type": "code",
   "execution_count": 2,
   "id": "106e9f56",
   "metadata": {},
   "outputs": [],
   "source": [
    "Rodger = Dog(\"Rodger\")\n",
    "Tommy = Dog(\"Tommy\")"
   ]
  },
  {
   "cell_type": "code",
   "execution_count": 3,
   "id": "24aa4801",
   "metadata": {},
   "outputs": [
    {
     "name": "stdout",
     "output_type": "stream",
     "text": [
      "Rodger is a mammal\n",
      "Tommy is a mammal\n"
     ]
    }
   ],
   "source": [
    "# accessing class attributes\n",
    "print(\"Rodger is a {}\".format(Rodger.__class__.attr1))\n",
    "print(\"Tommy is a {}\".format(Tommy.__class__.attr1))"
   ]
  },
  {
   "cell_type": "code",
   "execution_count": 4,
   "id": "8022cefc",
   "metadata": {},
   "outputs": [
    {
     "name": "stdout",
     "output_type": "stream",
     "text": [
      "My name is Rodger\n",
      "My name is Tommy\n"
     ]
    }
   ],
   "source": [
    "# accessing instance attributes\n",
    "print(\"My name is {}\".format(Rodger.name))\n",
    "print(\"My name is {}\".format(Tommy.name))"
   ]
  },
  {
   "cell_type": "markdown",
   "id": "79e6f380",
   "metadata": {},
   "source": [
    "__Example 2: Creating Class and objects with methods__"
   ]
  },
  {
   "cell_type": "code",
   "execution_count": 5,
   "id": "d78a2f37",
   "metadata": {},
   "outputs": [],
   "source": [
    "class Dog:\n",
    "  \n",
    "    # class attribute\n",
    "    attr1 = \"mammal\"\n",
    "  \n",
    "    # instance attribute\n",
    "    def __init__(self, name):\n",
    "        self.name = name\n",
    "          \n",
    "    def speak(self):\n",
    "        print(\"My name is {}\".format(self.name))"
   ]
  },
  {
   "cell_type": "code",
   "execution_count": 6,
   "id": "d1825680",
   "metadata": {},
   "outputs": [],
   "source": [
    "Rodger = Dog(\"Rodger\")\n",
    "Tommy = Dog(\"Tommy\")"
   ]
  },
  {
   "cell_type": "code",
   "execution_count": 7,
   "id": "2a349625",
   "metadata": {},
   "outputs": [
    {
     "name": "stdout",
     "output_type": "stream",
     "text": [
      "My name is Rodger\n",
      "My name is Tommy\n"
     ]
    }
   ],
   "source": [
    "Rodger.speak()\n",
    "Tommy.speak()"
   ]
  },
  {
   "cell_type": "markdown",
   "id": "5249de8f",
   "metadata": {},
   "source": [
    "__Inheritance__ is the capability of one class to derive or inherit the properties from another class. "
   ]
  },
  {
   "cell_type": "markdown",
   "id": "49fb5c1f",
   "metadata": {},
   "source": [
    "__Example 3: Inheritance in Python__"
   ]
  },
  {
   "cell_type": "code",
   "execution_count": 8,
   "id": "fd20aa2c",
   "metadata": {},
   "outputs": [],
   "source": [
    "# parent class\n",
    "class Person(object):\n",
    "  \n",
    "    # __init__ is known as the constructor\n",
    "    def __init__(self, name, idnumber):\n",
    "        self.name = name\n",
    "        self.idnumber = idnumber\n",
    "  \n",
    "    def display(self):\n",
    "        print(self.name)\n",
    "        print(self.idnumber)\n",
    "          \n",
    "    def details(self):\n",
    "        print(\"My name is {}\".format(self.name))\n",
    "        print(\"IdNumber: {}\".format(self.idnumber))"
   ]
  },
  {
   "cell_type": "code",
   "execution_count": 9,
   "id": "5e4e93fe",
   "metadata": {},
   "outputs": [],
   "source": [
    "# child class\n",
    "class Employee(Person):\n",
    "    def __init__(self, name, idnumber, salary, post):\n",
    "        self.salary = salary\n",
    "        self.post = post\n",
    "  \n",
    "        # invoking the __init__ of the parent class\n",
    "        Person.__init__(self, name, idnumber)\n",
    "          \n",
    "    def details(self):\n",
    "        print(\"My name is {}\".format(self.name))\n",
    "        print(\"IdNumber: {}\".format(self.idnumber))\n",
    "        print(\"Post: {}\".format(self.post))"
   ]
  },
  {
   "cell_type": "code",
   "execution_count": 10,
   "id": "66bef683",
   "metadata": {},
   "outputs": [],
   "source": [
    "# creation of an object variable or an instance\n",
    "a = Employee('Paul', 886012, 200000, \"Intern\")"
   ]
  },
  {
   "cell_type": "code",
   "execution_count": 11,
   "id": "f54c2bf9",
   "metadata": {},
   "outputs": [
    {
     "name": "stdout",
     "output_type": "stream",
     "text": [
      "Paul\n",
      "886012\n"
     ]
    }
   ],
   "source": [
    "# calling a function of the parent class\n",
    "a.display()"
   ]
  },
  {
   "cell_type": "code",
   "execution_count": 12,
   "id": "fa0a69dd",
   "metadata": {},
   "outputs": [
    {
     "name": "stdout",
     "output_type": "stream",
     "text": [
      "My name is Paul\n",
      "IdNumber: 886012\n",
      "Post: Intern\n"
     ]
    }
   ],
   "source": [
    "# calling a modified function of the child class\n",
    "a.details()"
   ]
  },
  {
   "cell_type": "markdown",
   "id": "3b2539ab",
   "metadata": {},
   "source": [
    "__Polymorphism__ simply means having many forms."
   ]
  },
  {
   "cell_type": "markdown",
   "id": "b9e35eaf",
   "metadata": {},
   "source": [
    "__Example 4: Polymorphism in Python__"
   ]
  },
  {
   "cell_type": "code",
   "execution_count": 13,
   "id": "2fcedd4f",
   "metadata": {},
   "outputs": [],
   "source": [
    "class Bird:\n",
    "    \n",
    "    def intro(self):\n",
    "        print(\"There are many types of birds.\")\n",
    "  \n",
    "    def flight(self):\n",
    "        print(\"Most of the birds can fly but some cannot.\")"
   ]
  },
  {
   "cell_type": "code",
   "execution_count": 14,
   "id": "92ddb155",
   "metadata": {},
   "outputs": [],
   "source": [
    "class sparrow(Bird):\n",
    "    \n",
    "    def flight(self):\n",
    "        print(\"Sparrows can fly.\")"
   ]
  },
  {
   "cell_type": "code",
   "execution_count": 15,
   "id": "9d73940e",
   "metadata": {},
   "outputs": [],
   "source": [
    "class ostrich(Bird):\n",
    "  \n",
    "    def flight(self):\n",
    "        print(\"Ostriches cannot fly.\")"
   ]
  },
  {
   "cell_type": "code",
   "execution_count": 16,
   "id": "0f9dbfdc",
   "metadata": {},
   "outputs": [],
   "source": [
    "obj_bird = Bird()\n",
    "obj_spr = sparrow()\n",
    "obj_ost = ostrich()"
   ]
  },
  {
   "cell_type": "code",
   "execution_count": 17,
   "id": "2db39b09",
   "metadata": {},
   "outputs": [
    {
     "name": "stdout",
     "output_type": "stream",
     "text": [
      "There are many types of birds.\n",
      "Most of the birds can fly but some cannot.\n"
     ]
    }
   ],
   "source": [
    "obj_bird.intro()\n",
    "obj_bird.flight()"
   ]
  },
  {
   "cell_type": "code",
   "execution_count": 18,
   "id": "259bc119",
   "metadata": {},
   "outputs": [
    {
     "name": "stdout",
     "output_type": "stream",
     "text": [
      "There are many types of birds.\n",
      "Sparrows can fly.\n"
     ]
    }
   ],
   "source": [
    "obj_spr.intro()\n",
    "obj_spr.flight()"
   ]
  },
  {
   "cell_type": "code",
   "execution_count": 19,
   "id": "863b3b19",
   "metadata": {},
   "outputs": [
    {
     "name": "stdout",
     "output_type": "stream",
     "text": [
      "There are many types of birds.\n",
      "Ostriches cannot fly.\n"
     ]
    }
   ],
   "source": [
    "obj_ost.intro()\n",
    "obj_ost.flight()"
   ]
  },
  {
   "cell_type": "markdown",
   "id": "38b0acbe",
   "metadata": {},
   "source": [
    "__Encapsulation__ is one of the fundamental concepts in object-oriented programming (OOP). It describes the idea of wrapping data and the methods that work on data within one unit. This puts restrictions on accessing variables and methods directly and can prevent the accidental modification of data. To prevent accidental change, an object’s variable can only be changed by an object’s method. Those types of variables are known as private variables."
   ]
  },
  {
   "cell_type": "markdown",
   "id": "7193f14e",
   "metadata": {},
   "source": [
    "__Example 5: Encapsulation in Python__"
   ]
  },
  {
   "cell_type": "code",
   "execution_count": 20,
   "id": "9a340eeb",
   "metadata": {},
   "outputs": [],
   "source": [
    "# creating a Base class\n",
    "class Base:\n",
    "    def __init__(self):\n",
    "        self.a = \"Hello!\"\n",
    "        self.b = \"I am here\"\n",
    "        self.__c = \"Goodbye\""
   ]
  },
  {
   "cell_type": "code",
   "execution_count": 21,
   "id": "9c684b4e",
   "metadata": {},
   "outputs": [],
   "source": [
    "# creating a derived class\n",
    "class Derived(Base):\n",
    "    def __init__(self):\n",
    "  \n",
    "        # calling constructor of Base class\n",
    "        Base.__init__(self)\n",
    "        print(self.b)\n",
    "        print(\"Calling private member of base class: \")\n",
    "        print(self.__c)"
   ]
  },
  {
   "cell_type": "code",
   "execution_count": 22,
   "id": "1d28dce7",
   "metadata": {},
   "outputs": [
    {
     "name": "stdout",
     "output_type": "stream",
     "text": [
      "Hello!\n"
     ]
    }
   ],
   "source": [
    "obj1 = Base()\n",
    "print(obj1.a)"
   ]
  },
  {
   "cell_type": "code",
   "execution_count": 23,
   "id": "90e17afb",
   "metadata": {},
   "outputs": [
    {
     "ename": "AttributeError",
     "evalue": "'Base' object has no attribute 'c'",
     "output_type": "error",
     "traceback": [
      "\u001b[0;31m---------------------------------------------------------------------------\u001b[0m",
      "\u001b[0;31mAttributeError\u001b[0m                            Traceback (most recent call last)",
      "\u001b[0;32m<ipython-input-23-b1276be81fff>\u001b[0m in \u001b[0;36m<module>\u001b[0;34m\u001b[0m\n\u001b[0;32m----> 1\u001b[0;31m \u001b[0mprint\u001b[0m\u001b[0;34m(\u001b[0m\u001b[0mobj1\u001b[0m\u001b[0;34m.\u001b[0m\u001b[0mc\u001b[0m\u001b[0;34m)\u001b[0m\u001b[0;34m\u001b[0m\u001b[0;34m\u001b[0m\u001b[0m\n\u001b[0m",
      "\u001b[0;31mAttributeError\u001b[0m: 'Base' object has no attribute 'c'"
     ]
    }
   ],
   "source": [
    "print(obj1.c)"
   ]
  },
  {
   "cell_type": "code",
   "execution_count": 24,
   "id": "dff4e196",
   "metadata": {},
   "outputs": [
    {
     "name": "stdout",
     "output_type": "stream",
     "text": [
      "I am here\n",
      "Calling private member of base class: \n"
     ]
    },
    {
     "ename": "AttributeError",
     "evalue": "'Derived' object has no attribute '_Derived__c'",
     "output_type": "error",
     "traceback": [
      "\u001b[0;31m---------------------------------------------------------------------------\u001b[0m",
      "\u001b[0;31mAttributeError\u001b[0m                            Traceback (most recent call last)",
      "\u001b[0;32m<ipython-input-24-a92fa519d552>\u001b[0m in \u001b[0;36m<module>\u001b[0;34m\u001b[0m\n\u001b[0;32m----> 1\u001b[0;31m \u001b[0mobj2\u001b[0m \u001b[0;34m=\u001b[0m \u001b[0mDerived\u001b[0m\u001b[0;34m(\u001b[0m\u001b[0;34m)\u001b[0m\u001b[0;34m\u001b[0m\u001b[0;34m\u001b[0m\u001b[0m\n\u001b[0m",
      "\u001b[0;32m<ipython-input-21-dae4b46d718d>\u001b[0m in \u001b[0;36m__init__\u001b[0;34m(self)\u001b[0m\n\u001b[1;32m      7\u001b[0m         \u001b[0mprint\u001b[0m\u001b[0;34m(\u001b[0m\u001b[0mself\u001b[0m\u001b[0;34m.\u001b[0m\u001b[0mb\u001b[0m\u001b[0;34m)\u001b[0m\u001b[0;34m\u001b[0m\u001b[0;34m\u001b[0m\u001b[0m\n\u001b[1;32m      8\u001b[0m         \u001b[0mprint\u001b[0m\u001b[0;34m(\u001b[0m\u001b[0;34m\"Calling private member of base class: \"\u001b[0m\u001b[0;34m)\u001b[0m\u001b[0;34m\u001b[0m\u001b[0;34m\u001b[0m\u001b[0m\n\u001b[0;32m----> 9\u001b[0;31m         \u001b[0mprint\u001b[0m\u001b[0;34m(\u001b[0m\u001b[0mself\u001b[0m\u001b[0;34m.\u001b[0m\u001b[0m__c\u001b[0m\u001b[0;34m)\u001b[0m\u001b[0;34m\u001b[0m\u001b[0;34m\u001b[0m\u001b[0m\n\u001b[0m",
      "\u001b[0;31mAttributeError\u001b[0m: 'Derived' object has no attribute '_Derived__c'"
     ]
    }
   ],
   "source": [
    "obj2 = Derived()"
   ]
  },
  {
   "cell_type": "code",
   "execution_count": null,
   "id": "24024706",
   "metadata": {},
   "outputs": [],
   "source": []
  }
 ],
 "metadata": {
  "kernelspec": {
   "display_name": "Python 3",
   "language": "python",
   "name": "python3"
  },
  "language_info": {
   "codemirror_mode": {
    "name": "ipython",
    "version": 3
   },
   "file_extension": ".py",
   "mimetype": "text/x-python",
   "name": "python",
   "nbconvert_exporter": "python",
   "pygments_lexer": "ipython3",
   "version": "3.6.9"
  }
 },
 "nbformat": 4,
 "nbformat_minor": 5
}
