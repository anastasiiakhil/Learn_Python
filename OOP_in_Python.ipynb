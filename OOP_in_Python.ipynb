{
 "cells": [
  {
   "cell_type": "markdown",
   "id": "d7dbc544",
   "metadata": {},
   "source": [
    "This notebook is based on the [Python OOPs Concepts](https://www.geeksforgeeks.org/python-oops-concepts/) article and the [Python for Beginners — Object-Oriented Programming](https://betterprogramming.pub/python-for-beginners-object-oriented-programming-3b231bb3dd49) article that aim to study the concept of OOP in python."
   ]
  },
  {
   "cell_type": "markdown",
   "id": "6c2cf9e8",
   "metadata": {},
   "source": [
    "A __class__ is a collection of objects. A class contains the blueprints or the prototype from which the objects are being created. It is a logical entity that contains some attributes and methods.\n",
    "<br> * Classes are created by keyword class.\n",
    "<br> * Attributes are the variables that belong to a class.\n",
    "<br> * Attributes are always public and can be accessed using the dot (.) operator."
   ]
  },
  {
   "cell_type": "markdown",
   "id": "308fec7f",
   "metadata": {},
   "source": [
    "An __object__ is an entity that has a state and behavior associated with it. Integers, strings, floating-point numbers, even arrays, and dictionaries, are all objects.\n",
    "<br> An object consists of :\n",
    "<br> * State: It is represented by the attributes of an object. It also reflects the properties of an object.\n",
    "<br> * Behavior: It is represented by the methods of an object. It also reflects the response of an object to other objects.\n",
    "<br> * Identity: It gives a unique name to an object and enables one object to interact with other objects."
   ]
  },
  {
   "cell_type": "markdown",
   "id": "f15633bd",
   "metadata": {},
   "source": [
    "__self__ represents the instance of the class. By using the “self” keyword we can access the attributes and methods of the class in python. It binds the attributes with the given arguments."
   ]
  },
  {
   "cell_type": "markdown",
   "id": "8d198c77",
   "metadata": {},
   "source": [
    "__init__ method is run as soon as an object of a class is instantiated. The method is useful to do any initialization you want to do with your object. "
   ]
  },
  {
   "cell_type": "markdown",
   "id": "e21d7372",
   "metadata": {},
   "source": [
    "__Example 1: Creating a class and object with class and instance attributes__"
   ]
  },
  {
   "cell_type": "code",
   "execution_count": 1,
   "id": "3c8e86da",
   "metadata": {},
   "outputs": [],
   "source": [
    "class Dog:\n",
    "  \n",
    "    # class attribute\n",
    "    attr1 = \"mammal\"\n",
    "  \n",
    "    # instance attribute\n",
    "    def __init__(self, name):\n",
    "        self.name = name"
   ]
  },
  {
   "cell_type": "code",
   "execution_count": 2,
   "id": "106e9f56",
   "metadata": {},
   "outputs": [],
   "source": [
    "Rodger = Dog(\"Rodger\")\n",
    "Tommy = Dog(\"Tommy\")\n",
    "\n",
    "# accessing class attributes\n",
    "print(\"Rodger is a {}\".format(Rodger.__class__.attr1))\n",
    "print(\"Tommy is a {}\".format(Tommy.__class__.attr1))\n",
    "\n",
    "# accessing instance attributes\n",
    "print(\"\\nMy name is {}\".format(Rodger.name))\n",
    "print(\"My name is {}\".format(Tommy.name))"
   ]
  },
  {
   "cell_type": "markdown",
   "id": "79e6f380",
   "metadata": {},
   "source": [
    "__Example 2: Creating Class and objects with methods__"
   ]
  },
  {
   "cell_type": "code",
   "execution_count": 3,
   "id": "d78a2f37",
   "metadata": {},
   "outputs": [],
   "source": [
    "class Dog:\n",
    "  \n",
    "    # class attribute\n",
    "    attr1 = \"mammal\"\n",
    "  \n",
    "    # instance attribute\n",
    "    def __init__(self, name):\n",
    "        self.name = name\n",
    "          \n",
    "    def speak(self):\n",
    "        print(\"My name is {}\".format(self.name))"
   ]
  },
  {
   "cell_type": "code",
   "execution_count": 4,
   "id": "d1825680",
   "metadata": {},
   "outputs": [],
   "source": [
    "Rodger = Dog(\"Rodger\")\n",
    "Tommy = Dog(\"Tommy\")\n",
    "\n",
    "Rodger.speak()\n",
    "Tommy.speak()"
   ]
  },
  {
   "cell_type": "markdown",
   "id": "49fb5c1f",
   "metadata": {},
   "source": [
    "__Example 3: Inheritance in Python__"
   ]
  },
  {
   "cell_type": "markdown",
   "id": "5249de8f",
   "metadata": {},
   "source": [
    "__Inheritance__ is the capability of one class to derive or inherit the properties from another class. "
   ]
  },
  {
   "cell_type": "code",
   "execution_count": 5,
   "id": "fd20aa2c",
   "metadata": {},
   "outputs": [],
   "source": [
    "# parent class\n",
    "class Person(object):\n",
    "  \n",
    "    # __init__ is known as the constructor\n",
    "    def __init__(self, name, idnumber):\n",
    "        self.name = name\n",
    "        self.idnumber = idnumber\n",
    "  \n",
    "    def display(self):\n",
    "        print(self.name)\n",
    "        print(self.idnumber)\n",
    "          \n",
    "    def details(self):\n",
    "        print(\"My name is {}\".format(self.name))\n",
    "        print(\"IdNumber: {}\".format(self.idnumber))\n",
    "\n",
    "        \n",
    "# child class\n",
    "class Employee(Person):\n",
    "    def __init__(self, name, idnumber, salary, post):\n",
    "        self.salary = salary\n",
    "        self.post = post\n",
    "  \n",
    "        # invoking the __init__ of the parent class\n",
    "        Person.__init__(self, name, idnumber)\n",
    "          \n",
    "    def details(self):\n",
    "        print(\"My name is {}\".format(self.name))\n",
    "        print(\"IdNumber: {}\".format(self.idnumber))\n",
    "        print(\"Post: {}\".format(self.post))"
   ]
  },
  {
   "cell_type": "code",
   "execution_count": 6,
   "id": "66bef683",
   "metadata": {},
   "outputs": [],
   "source": [
    "# creation of an instance\n",
    "a = Employee('Paul', 886012, 200000, \"Intern\")\n",
    "\n",
    "# calling a function of the parent class\n",
    "a.display()\n",
    "\n",
    "# calling a modified function of the child class\n",
    "print()\n",
    "a.details()"
   ]
  },
  {
   "cell_type": "markdown",
   "id": "b9e35eaf",
   "metadata": {},
   "source": [
    "__Example 4: Polymorphism in Python__"
   ]
  },
  {
   "cell_type": "markdown",
   "id": "3b2539ab",
   "metadata": {},
   "source": [
    "__Polymorphism__ means the ability to take various forms."
   ]
  },
  {
   "cell_type": "code",
   "execution_count": 7,
   "id": "2fcedd4f",
   "metadata": {},
   "outputs": [],
   "source": [
    "class Bird:\n",
    "    \n",
    "    def intro(self):\n",
    "        print(\"There are many types of birds.\")\n",
    "  \n",
    "    def flight(self):\n",
    "        print(\"Most of the birds can fly but some cannot.\")\n",
    "        \n",
    "        \n",
    "class sparrow(Bird):\n",
    "    \n",
    "    def flight(self):\n",
    "        print(\"Sparrows can fly.\")\n",
    "        \n",
    "        \n",
    "class ostrich(Bird):\n",
    "  \n",
    "    def flight(self):\n",
    "        print(\"Ostriches cannot fly.\")"
   ]
  },
  {
   "cell_type": "code",
   "execution_count": 8,
   "id": "0f9dbfdc",
   "metadata": {},
   "outputs": [],
   "source": [
    "obj_bird = Bird()\n",
    "obj_spr = sparrow()\n",
    "obj_ost = ostrich()\n",
    "\n",
    "obj_bird.intro()\n",
    "obj_bird.flight()\n",
    "\n",
    "print()\n",
    "obj_spr.intro()\n",
    "obj_spr.flight()\n",
    "\n",
    "print()\n",
    "obj_ost.intro()\n",
    "obj_ost.flight()"
   ]
  },
  {
   "cell_type": "markdown",
   "id": "7193f14e",
   "metadata": {},
   "source": [
    "__Example 5: Encapsulation in Python__"
   ]
  },
  {
   "cell_type": "markdown",
   "id": "38b0acbe",
   "metadata": {},
   "source": [
    "__Encapsulation__ is one of the fundamental concepts in object-oriented programming. It describes the idea of wrapping data and the methods that work on data within one unit. This puts restrictions on accessing variables and methods directly and can prevent the accidental modification of data. To prevent accidental change, an object’s variable can only be changed by an object’s method. Those types of variables are known as private variables."
   ]
  },
  {
   "cell_type": "code",
   "execution_count": 9,
   "id": "9a340eeb",
   "metadata": {},
   "outputs": [],
   "source": [
    "# creating a Base class\n",
    "class Base:\n",
    "    def __init__(self):\n",
    "        self.a = \"Hello!\"\n",
    "        self.__b = \"Goodbye\"\n",
    "\n",
    "        \n",
    "# creating a derived class\n",
    "class Derived(Base):\n",
    "    def __init__(self):\n",
    "  \n",
    "        # calling constructor of Base class\n",
    "        Base.__init__(self)\n",
    "        print(self.a)\n",
    "        print(\"Calling private member of base class: \")\n",
    "        print(self.__b)"
   ]
  },
  {
   "cell_type": "code",
   "execution_count": 10,
   "id": "1d28dce7",
   "metadata": {},
   "outputs": [],
   "source": [
    "obj1 = Base()\n",
    "print(obj1.a)\n",
    "\n",
    "# print(obj1.__b)\n",
    "# AttributeError: 'Base' object has no attribute '__b'\n",
    "\n",
    "# obj2 = Derived()\n",
    "# AttributeError: 'Derived' object has no attribute '_Derived__b'\n",
    "\n",
    "# using name mangling to access private variables\n",
    "print(obj1._Base__b)"
   ]
  },
  {
   "cell_type": "markdown",
   "id": "95df3f80",
   "metadata": {},
   "source": [
    "To implement proper encapsulation in Python, we need to use setters and getters, as shown below:"
   ]
  },
  {
   "cell_type": "code",
   "execution_count": 11,
   "id": "2b5e13b0",
   "metadata": {},
   "outputs": [],
   "source": [
    "class House:\n",
    "  \n",
    "  def setWall(self, dynamicWall):\n",
    "    self.wall = dynamicWall\n",
    "   \n",
    "  def getWall(self):\n",
    "    print(self.wall)"
   ]
  },
  {
   "cell_type": "markdown",
   "id": "c01c8bf8",
   "metadata": {},
   "source": [
    "__Example 6: Abstraction in Python__"
   ]
  },
  {
   "cell_type": "markdown",
   "id": "0c28c5a9",
   "metadata": {},
   "source": [
    "__Abstraction__ is a process of hiding the real implementation of the method by only showing a method signature. In Python, we can achieve abstraction using ABC (abstraction class) or abstract method."
   ]
  },
  {
   "cell_type": "code",
   "execution_count": 12,
   "id": "ea6e9abe",
   "metadata": {},
   "outputs": [],
   "source": [
    "from abc import abstractmethod, ABC\n",
    "\n",
    "class Vehicle(ABC):\n",
    "    def __init__(self, speed, year):\n",
    "        self.speed = speed\n",
    "        self.year = year\n",
    "\n",
    "    def start(self):\n",
    "        print(\"Starting engine\")\n",
    "\n",
    "    def stop(self):\n",
    "        print(\"Stopping engine\")\n",
    "\n",
    "    @abstractmethod\n",
    "    def drive(self):\n",
    "        pass\n",
    "\n",
    "    \n",
    "class Car(Vehicle):\n",
    "    def __init__(self, canClimbMountains, speed, year):\n",
    "        Vehicle.__init__(self, speed, year)\n",
    "        self.canClimbMountains = canClimbMountains\n",
    "\n",
    "    def drive(self):\n",
    "        print(\"Car is in drive mode\")"
   ]
  },
  {
   "cell_type": "code",
   "execution_count": 13,
   "id": "13aced18",
   "metadata": {},
   "outputs": [],
   "source": [
    "car_obj = Car('yes', 80, 2005)\n",
    "car_obj.drive()"
   ]
  },
  {
   "cell_type": "code",
   "execution_count": null,
   "id": "0709060e",
   "metadata": {},
   "outputs": [],
   "source": []
  }
 ],
 "metadata": {
  "kernelspec": {
   "display_name": "Python 3 (ipykernel)",
   "language": "python",
   "name": "python3"
  },
  "language_info": {
   "codemirror_mode": {
    "name": "ipython",
    "version": 3
   },
   "file_extension": ".py",
   "mimetype": "text/x-python",
   "name": "python",
   "nbconvert_exporter": "python",
   "pygments_lexer": "ipython3",
   "version": "3.8.10"
  }
 },
 "nbformat": 4,
 "nbformat_minor": 5
}
